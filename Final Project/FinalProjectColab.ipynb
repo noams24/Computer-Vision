{
  "cells": [
    {
      "cell_type": "markdown",
      "metadata": {
        "id": "f2xej11TW97F"
      },
      "source": [
        "#Computer vision final project - Font classification\n",
        "##Name: Noam Sadeh\n",
        "##Date 5.2.2023"
      ]
    },
    {
      "cell_type": "markdown",
      "metadata": {
        "id": "koja39lHV_6h"
      },
      "source": [
        "##Importing libraries 📚"
      ]
    },
    {
      "cell_type": "code",
      "execution_count": 3,
      "metadata": {
        "id": "Cbkk3rTKWtva"
      },
      "outputs": [],
      "source": [
        "# deep learning libraries:\n",
        "import tensorflow as tf\n",
        "from tensorflow.keras.models import Sequential, model_from_json,  save_model\n",
        "from tensorflow.keras.layers import Conv2D, MaxPooling2D, Flatten, Dense, InputLayer, Dropout, LeakyReLU, BatchNormalization\n",
        "from tensorflow.keras.preprocessing.image import ImageDataGenerator\n",
        "from tensorflow.image import random_contrast, random_brightness, random_saturation, random_hue\n",
        "from tensorflow.keras.callbacks import ReduceLROnPlateau, ModelCheckpoint\n",
        "from keras.regularizers import l2\n",
        "\n",
        "#data visualization:\n",
        "import matplotlib.pyplot as plt\n",
        "from google.colab.patches import cv2_imshow\n",
        "\n",
        "# data preprocessing:\n",
        "import seaborn as sns\n",
        "import numpy as np\n",
        "import cv2\n",
        "import h5py\n",
        "import os\n",
        "from pathlib import Path\n",
        "from PIL import Image\n",
        "from collections import defaultdict\n",
        "from sklearn.metrics import accuracy_score\n",
        "import json\n",
        "import pandas as pd"
      ]
    },
    {
      "cell_type": "markdown",
      "metadata": {
        "id": "gY35kH9hdvBO"
      },
      "source": [
        "##Loading the dataset\n"
      ]
    },
    {
      "cell_type": "code",
      "execution_count": 5,
      "metadata": {
        "colab": {
          "base_uri": "https://localhost:8080/"
        },
        "id": "2p23j0BfdzBN",
        "outputId": "d806188c-290a-4838-9dcf-529cbb44cff2"
      },
      "outputs": [
        {
          "output_type": "stream",
          "name": "stdout",
          "text": [
            "Mounted at /content/drive\n"
          ]
        }
      ],
      "source": [
        "from google.colab import drive\n",
        "drive.mount('/content/drive')"
      ]
    },
    {
      "cell_type": "code",
      "execution_count": 6,
      "metadata": {
        "id": "9gbpc4wff09X"
      },
      "outputs": [],
      "source": [
        "db = h5py.File('/content/drive/MyDrive/SynthText_train.h5')\n",
        "im_names = list(db['data'].keys())"
      ]
    },
    {
      "cell_type": "markdown",
      "metadata": {
        "id": "nASOrESav00t"
      },
      "source": [
        "##Preprocessing: 📊"
      ]
    },
    {
      "cell_type": "code",
      "source": [
        "#this function cuts the image to 64x64 pixels\n",
        "def concentrateImg(src_img, src_BB, target_BB_res=(44,44), hmargin=10, vmargin=10):\n",
        "    # target boundry box (for the homography)\n",
        "    target_BB = np.array([[hmargin, vmargin],\n",
        "                          [hmargin + target_BB_res[0], vmargin],\n",
        "                          [hmargin + target_BB_res[0], vmargin + target_BB_res[1]],\n",
        "                          [hmargin, vmargin + target_BB_res[1]]]).transpose()\n",
        "    # resolution of the target concentrated image (including margins)\n",
        "    target_img_res = (2 * hmargin + target_BB_res[0],\n",
        "                      2 * vmargin + target_BB_res[1])\n",
        "    # calculate the homography from original BB to target BB\n",
        "    H = cv2.findHomography(src_BB.transpose(), target_BB.transpose())[0]\n",
        "    H = cv2.warpPerspective(src_img, H, target_img_res)\n",
        "    img = Image.fromarray(H)\n",
        "    return img"
      ],
      "metadata": {
        "id": "wrQ603xpW8PS"
      },
      "execution_count": 7,
      "outputs": []
    },
    {
      "cell_type": "markdown",
      "metadata": {
        "id": "qWBQ5o-7150L"
      },
      "source": [
        "###count fonts"
      ]
    },
    {
      "cell_type": "code",
      "execution_count": null,
      "metadata": {
        "colab": {
          "base_uri": "https://localhost:8080/",
          "height": 265
        },
        "id": "2wnouR4Uv5MI",
        "outputId": "8776794e-2791-408c-80d3-26017f233688"
      },
      "outputs": [
        {
          "data": {
            "image/png": "[encoded data removed]",
            "text/plain": [
              "<Figure size 432x288 with 1 Axes>"
            ]
          },
          "metadata": {},
          "output_type": "display_data"
        }
      ],
      "source": [
        "count_fonts = {\"b'Alex Brush'\" : 0, \"b'Ubuntu Mono'\" : 0, \"b'Titillium Web'\" : 0, \"b'Open Sans'\" : 0, \"b'Sansation'\" : 0}\n",
        "alex_counter = 0\n",
        "ubuntu_counter = 0\n",
        "titillium_counter = 0\n",
        "open_counter = 0\n",
        "sansation_counter = 0\n",
        "\n",
        "for img in im_names:\n",
        "  font = db['data'][img].attrs['font']\n",
        "  for name in font:\n",
        "    count_fonts[str(name)] += 1\n",
        "\n",
        "plt.bar(list(count_fonts.keys()), count_fonts.values(), color=['red', 'green', 'blue', 'purple' , 'orange'])\n",
        "plt.show()"
      ]
    },
    {
      "cell_type": "markdown",
      "metadata": {
        "id": "R4p5Rij7vglR"
      },
      "source": [
        "###Creating folders 📁"
      ]
    },
    {
      "cell_type": "code",
      "execution_count": null,
      "metadata": {
        "id": "Z73w7BYs9t_4"
      },
      "outputs": [],
      "source": [
        "directories = ['/content/train_set', '/content/test_set']\n",
        "paths = ['Alex Brush/', 'Ubuntu Mono', 'Open Sans','Titillium Web', 'Sansation']\n",
        "             \n",
        "for directory in directories:\n",
        "  os.mkdir(directory)\n",
        "  for path in paths:  # creating directories\n",
        "    os.mkdir(os.path.join(directory,path))"
      ]
    },
    {
      "cell_type": "markdown",
      "metadata": {
        "id": "K4YG1rdFUH4m"
      },
      "source": [
        "##split data set to test, validation, test"
      ]
    },
    {
      "cell_type": "code",
      "execution_count": null,
      "metadata": {
        "id": "MH95vGPgfBMS"
      },
      "outputs": [],
      "source": [
        "num = 0 # counter for setting the name of the file\n",
        "image_counter = 0 # for spliting train and test\n",
        "letter_counter = defaultdict(int)\n",
        "\n",
        "for im in im_names:\n",
        "  i = 0\n",
        "  img = db['data'][im][:]\n",
        "  font = db['data'][im].attrs['font']\n",
        "  txt = db['data'][im].attrs['txt']\n",
        "  charBB = db['data'][im].attrs['charBB']\n",
        "\n",
        "  for word in txt:\n",
        "    for letter in word:\n",
        "      try:\n",
        "        letter_counter[chr(letter)] += 1\n",
        "        new_img = concentrateImg(img, charBB[:, :, i])\n",
        "        curr_font = font[i].decode('UTF-8')\n",
        "        file_name = chr(letter) + str(num) +'.bmp'   \n",
        "\n",
        "        if image_counter < round(len(im_names) * 0.8):\n",
        "          path = \"/content/train_set/{}/{}\".format(curr_font, file_name)\n",
        "        else:\n",
        "          path = \"/content/test_set/{}/{}\".format(curr_font, file_name)\n",
        "        new_img.save(path, \"BMP\")\n",
        "      except:\n",
        "        pass\n",
        "      i += 1\n",
        "      num += 1\n",
        "  image_counter += 1"
      ]
    },
    {
      "cell_type": "markdown",
      "metadata": {
        "id": "Yve-resW_EDC"
      },
      "source": [
        "##Building and training the neural network"
      ]
    },
    {
      "cell_type": "code",
      "source": [
        "training_generator = ImageDataGenerator(rescale=1./255)\n",
        "\n",
        "train_dataset = training_generator.flow_from_directory('/content/train_set',\n",
        "                                                        target_size = (64,64),\n",
        "                                                        class_mode = 'categorical',                                                     \n",
        "                                                        shuffle = True)\n",
        "test_generator = ImageDataGenerator(rescale=1./255)\n",
        "test_dataset = test_generator.flow_from_directory('/content/test_set',\n",
        "                                                     target_size = (64,64),\n",
        "                                                     class_mode = 'categorical',\n",
        "                                                     shuffle = False)"
      ],
      "metadata": {
        "colab": {
          "base_uri": "https://localhost:8080/"
        },
        "id": "l2mB0EyAXk0y",
        "outputId": "be68730f-197c-42cc-efaa-c7a23372b330"
      },
      "execution_count": null,
      "outputs": [
        {
          "output_type": "stream",
          "name": "stdout",
          "text": [
            "Found 24318 images belonging to 5 classes.\n",
            "Found 6176 images belonging to 5 classes.\n"
          ]
        }
      ]
    },
    {
      "cell_type": "code",
      "source": [
        "class RandomColorDistortion(tf.keras.layers.Layer):\n",
        "\n",
        "    def __init__(self, contrast_range=(1,6), brighness_range=(0.5,1.5), saturation_range=(0.5,1.5), hue_delta=0.5, **kwargs):\n",
        "        super(RandomColorDistortion, self).__init__(**kwargs)\n",
        "        self.contrast_range = contrast_range\n",
        "        self.brighness_range = brighness_range\n",
        "        self.saturation_range = saturation_range\n",
        "        self.hue_delta = hue_delta\n",
        "\n",
        "    def get_config(self):\n",
        "      cfg = super().get_config()\n",
        "      return cfg \n",
        "         \n",
        "    def call(self, images, training=None):\n",
        "        if training:\n",
        "          images = random_contrast(images, self.contrast_range[0], self.contrast_range[1])\n",
        "          images = random_brightness(images, self.brighness_range[0], self.brighness_range[1])\n",
        "          images = random_saturation(images, self.saturation_range[0], self.saturation_range[1])\n",
        "          images = random_hue(images, self.hue_delta)\n",
        "          images = tf.clip_by_value(images, 0, 1)\n",
        "        return images"
      ],
      "metadata": {
        "id": "JomoKk7Zvvbb"
      },
      "execution_count": 10,
      "outputs": []
    },
    {
      "cell_type": "code",
      "execution_count": null,
      "metadata": {
        "id": "EyCPeDhu_HJl",
        "colab": {
          "base_uri": "https://localhost:8080/"
        },
        "outputId": "157b63a2-cd0e-4b3f-a641-e23e069492c0"
      },
      "outputs": [
        {
          "output_type": "stream",
          "name": "stdout",
          "text": [
            "Model: \"sequential\"\n",
            "_________________________________________________________________\n",
            " Layer (type)                Output Shape              Param #   \n",
            "=================================================================\n",
            " randomcolordistortion (Rand  (None, 64, 64, 3)        0         \n",
            " omColorDistortion)                                              \n",
            "                                                                 \n",
            " conv2d (Conv2D)             (None, 64, 64, 64)        15616     \n",
            "                                                                 \n",
            " max_pooling2d (MaxPooling2D  (None, 32, 32, 64)       0         \n",
            " )                                                               \n",
            "                                                                 \n",
            " conv2d_1 (Conv2D)           (None, 27, 27, 32)        73760     \n",
            "                                                                 \n",
            " batch_normalization (BatchN  (None, 27, 27, 32)       128       \n",
            " ormalization)                                                   \n",
            "                                                                 \n",
            " max_pooling2d_1 (MaxPooling  (None, 13, 13, 32)       0         \n",
            " 2D)                                                             \n",
            "                                                                 \n",
            " dropout (Dropout)           (None, 13, 13, 32)        0         \n",
            "                                                                 \n",
            " conv2d_2 (Conv2D)           (None, 11, 11, 64)        18496     \n",
            "                                                                 \n",
            " max_pooling2d_2 (MaxPooling  (None, 5, 5, 64)         0         \n",
            " 2D)                                                             \n",
            "                                                                 \n",
            " dropout_1 (Dropout)         (None, 5, 5, 64)          0         \n",
            "                                                                 \n",
            " flatten (Flatten)           (None, 1600)              0         \n",
            "                                                                 \n",
            " dense (Dense)               (None, 128)               204928    \n",
            "                                                                 \n",
            " dropout_2 (Dropout)         (None, 128)               0         \n",
            "                                                                 \n",
            " dense_1 (Dense)             (None, 128)               16512     \n",
            "                                                                 \n",
            " dropout_3 (Dropout)         (None, 128)               0         \n",
            "                                                                 \n",
            " dense_2 (Dense)             (None, 5)                 645       \n",
            "                                                                 \n",
            "=================================================================\n",
            "Total params: 330,085\n",
            "Trainable params: 330,021\n",
            "Non-trainable params: 64\n",
            "_________________________________________________________________\n"
          ]
        }
      ],
      "source": [
        "model = Sequential([\n",
        "InputLayer(input_shape=(64,64,3)),\n",
        "RandomColorDistortion(name='randomcolordistortion'),\n",
        "    \n",
        "Conv2D(filters=64,kernel_size=(9,9), kernel_regularizer=l2(0.0005), activation=LeakyReLU(alpha=0.5), padding='same'),\n",
        "MaxPooling2D(pool_size=(2,2)),\n",
        "    \n",
        "Conv2D(filters=32,kernel_size=(6,6), activation=LeakyReLU(alpha=0.1)),\n",
        "BatchNormalization(),\n",
        "MaxPooling2D(pool_size=(2,2)),\n",
        "Dropout(0.25),\n",
        "    \n",
        "Conv2D(filters=64,kernel_size=(3,3), activation=LeakyReLU(alpha=0.1)),\n",
        "MaxPooling2D(pool_size=(2,2)),\n",
        "Dropout(0.25),\n",
        "    \n",
        "Flatten(),\n",
        "Dense(128, activation=LeakyReLU(alpha=0.1)),\n",
        "Dropout(0.25),\n",
        "Dense(128, activation=LeakyReLU(alpha=0.1)),\n",
        "Dropout(0.25),\n",
        "Dense(5, activation='softmax')])\n",
        "model.summary()"
      ]
    },
    {
      "cell_type": "markdown",
      "source": [
        "###Loss and Optimizer\n",
        "The loss is Cross Entropy - ment for multiclass classification.\n",
        "\n",
        "The optimizer is adam"
      ],
      "metadata": {
        "id": "BkRuewoXTCBl"
      }
    },
    {
      "cell_type": "code",
      "execution_count": null,
      "metadata": {
        "id": "hrz6_Tg__lst"
      },
      "outputs": [],
      "source": [
        "model.compile(optimizer='Adam', loss='categorical_crossentropy', metrics = ['accuracy'])\n",
        "lr_decay = ReduceLROnPlateau(monitor=\"val_loss\", factor=0.5, patience=10, mode=\"auto\",\n",
        "                                         verbose=1, min_delta=0.0001,cooldown=0, min_lr=0)\n",
        "mcp_save = ModelCheckpoint('/content/model/model.hdf5', save_best_only=True, monitor='val_loss', mode='min')"
      ]
    },
    {
      "cell_type": "code",
      "execution_count": null,
      "metadata": {
        "id": "vm8da2G3AXFG",
        "colab": {
          "base_uri": "https://localhost:8080/"
        },
        "outputId": "02d4aa47-a54b-4aea-ff84-cab6ad458d63"
      },
      "outputs": [
        {
          "output_type": "stream",
          "name": "stdout",
          "text": [
            "Epoch 1/110\n",
            "760/760 [==============================] - 24s 20ms/step - loss: 1.3455 - accuracy: 0.4021 - val_loss: 1.1274 - val_accuracy: 0.5413 - lr: 0.0010\n",
            "Epoch 2/110\n",
            "760/760 [==============================] - 14s 18ms/step - loss: 1.0129 - accuracy: 0.5648 - val_loss: 1.0066 - val_accuracy: 0.5640 - lr: 0.0010\n",
            "Epoch 3/110\n",
            "760/760 [==============================] - 14s 18ms/step - loss: 0.8943 - accuracy: 0.6242 - val_loss: 0.7910 - val_accuracy: 0.6728 - lr: 0.0010\n",
            "Epoch 4/110\n",
            "760/760 [==============================] - 14s 18ms/step - loss: 0.8393 - accuracy: 0.6552 - val_loss: 0.7296 - val_accuracy: 0.7176 - lr: 0.0010\n",
            "Epoch 5/110\n",
            "760/760 [==============================] - 16s 21ms/step - loss: 0.7866 - accuracy: 0.6767 - val_loss: 0.6661 - val_accuracy: 0.7340 - lr: 0.0010\n",
            "Epoch 6/110\n",
            "760/760 [==============================] - 23s 30ms/step - loss: 0.7463 - accuracy: 0.7010 - val_loss: 0.6479 - val_accuracy: 0.7552 - lr: 0.0010\n",
            "Epoch 7/110\n",
            "760/760 [==============================] - 15s 19ms/step - loss: 0.7208 - accuracy: 0.7098 - val_loss: 0.6958 - val_accuracy: 0.7275 - lr: 0.0010\n",
            "Epoch 8/110\n",
            "760/760 [==============================] - 17s 22ms/step - loss: 0.6950 - accuracy: 0.7187 - val_loss: 0.6238 - val_accuracy: 0.7596 - lr: 0.0010\n",
            "Epoch 9/110\n",
            "760/760 [==============================] - 18s 23ms/step - loss: 0.6771 - accuracy: 0.7290 - val_loss: 0.6820 - val_accuracy: 0.7270 - lr: 0.0010\n",
            "Epoch 10/110\n",
            "760/760 [==============================] - 15s 20ms/step - loss: 0.6521 - accuracy: 0.7383 - val_loss: 0.6389 - val_accuracy: 0.7503 - lr: 0.0010\n",
            "Epoch 11/110\n",
            "760/760 [==============================] - 16s 21ms/step - loss: 0.6456 - accuracy: 0.7430 - val_loss: 0.6507 - val_accuracy: 0.7490 - lr: 0.0010\n",
            "Epoch 12/110\n",
            "760/760 [==============================] - 18s 24ms/step - loss: 0.6302 - accuracy: 0.7477 - val_loss: 0.5886 - val_accuracy: 0.7774 - lr: 0.0010\n",
            "Epoch 13/110\n",
            "760/760 [==============================] - 18s 24ms/step - loss: 0.6221 - accuracy: 0.7537 - val_loss: 0.6345 - val_accuracy: 0.7403 - lr: 0.0010\n",
            "Epoch 14/110\n",
            "760/760 [==============================] - 18s 24ms/step - loss: 0.6172 - accuracy: 0.7577 - val_loss: 0.5858 - val_accuracy: 0.7824 - lr: 0.0010\n",
            "Epoch 15/110\n",
            "760/760 [==============================] - 16s 22ms/step - loss: 0.5889 - accuracy: 0.7687 - val_loss: 0.6845 - val_accuracy: 0.7301 - lr: 0.0010\n",
            "Epoch 16/110\n",
            "760/760 [==============================] - 14s 18ms/step - loss: 0.5959 - accuracy: 0.7667 - val_loss: 0.5662 - val_accuracy: 0.7872 - lr: 0.0010\n",
            "Epoch 17/110\n",
            "760/760 [==============================] - 14s 18ms/step - loss: 0.5869 - accuracy: 0.7678 - val_loss: 0.5914 - val_accuracy: 0.7767 - lr: 0.0010\n",
            "Epoch 18/110\n",
            "760/760 [==============================] - 15s 20ms/step - loss: 0.5708 - accuracy: 0.7756 - val_loss: 0.5651 - val_accuracy: 0.7866 - lr: 0.0010\n",
            "Epoch 19/110\n",
            "760/760 [==============================] - 19s 25ms/step - loss: 0.5594 - accuracy: 0.7820 - val_loss: 0.5383 - val_accuracy: 0.7944 - lr: 0.0010\n",
            "Epoch 20/110\n",
            "760/760 [==============================] - 18s 24ms/step - loss: 0.5579 - accuracy: 0.7823 - val_loss: 0.5726 - val_accuracy: 0.7825 - lr: 0.0010\n",
            "Epoch 21/110\n",
            "760/760 [==============================] - 17s 22ms/step - loss: 0.5519 - accuracy: 0.7849 - val_loss: 0.5785 - val_accuracy: 0.7869 - lr: 0.0010\n",
            "Epoch 22/110\n",
            "760/760 [==============================] - 14s 18ms/step - loss: 0.5477 - accuracy: 0.7874 - val_loss: 0.5470 - val_accuracy: 0.7991 - lr: 0.0010\n",
            "Epoch 23/110\n",
            "760/760 [==============================] - 14s 18ms/step - loss: 0.5456 - accuracy: 0.7875 - val_loss: 0.5342 - val_accuracy: 0.8013 - lr: 0.0010\n",
            "Epoch 24/110\n",
            "760/760 [==============================] - 16s 21ms/step - loss: 0.5269 - accuracy: 0.7947 - val_loss: 0.5498 - val_accuracy: 0.7895 - lr: 0.0010\n",
            "Epoch 25/110\n",
            "760/760 [==============================] - 18s 24ms/step - loss: 0.5267 - accuracy: 0.7963 - val_loss: 0.5156 - val_accuracy: 0.8034 - lr: 0.0010\n",
            "Epoch 26/110\n",
            "760/760 [==============================] - 18s 23ms/step - loss: 0.5211 - accuracy: 0.7987 - val_loss: 0.5476 - val_accuracy: 0.7952 - lr: 0.0010\n",
            "Epoch 27/110\n",
            "760/760 [==============================] - 15s 20ms/step - loss: 0.5200 - accuracy: 0.7974 - val_loss: 0.5243 - val_accuracy: 0.8075 - lr: 0.0010\n",
            "Epoch 28/110\n",
            "760/760 [==============================] - 15s 19ms/step - loss: 0.5077 - accuracy: 0.8035 - val_loss: 0.5370 - val_accuracy: 0.7929 - lr: 0.0010\n",
            "Epoch 29/110\n",
            "760/760 [==============================] - 14s 19ms/step - loss: 0.5050 - accuracy: 0.8066 - val_loss: 0.5388 - val_accuracy: 0.7903 - lr: 0.0010\n",
            "Epoch 30/110\n",
            "760/760 [==============================] - 15s 20ms/step - loss: 0.4991 - accuracy: 0.8079 - val_loss: 0.5070 - val_accuracy: 0.8102 - lr: 0.0010\n",
            "Epoch 31/110\n",
            "760/760 [==============================] - 19s 25ms/step - loss: 0.4921 - accuracy: 0.8062 - val_loss: 0.5057 - val_accuracy: 0.8138 - lr: 0.0010\n",
            "Epoch 32/110\n",
            "760/760 [==============================] - 17s 22ms/step - loss: 0.4921 - accuracy: 0.8081 - val_loss: 0.5035 - val_accuracy: 0.8070 - lr: 0.0010\n",
            "Epoch 33/110\n",
            "760/760 [==============================] - 14s 19ms/step - loss: 0.4856 - accuracy: 0.8116 - val_loss: 0.5259 - val_accuracy: 0.8013 - lr: 0.0010\n",
            "Epoch 34/110\n",
            "760/760 [==============================] - 14s 19ms/step - loss: 0.4753 - accuracy: 0.8166 - val_loss: 0.5150 - val_accuracy: 0.8075 - lr: 0.0010\n",
            "Epoch 35/110\n",
            "760/760 [==============================] - 15s 19ms/step - loss: 0.4805 - accuracy: 0.8140 - val_loss: 0.5072 - val_accuracy: 0.8123 - lr: 0.0010\n",
            "Epoch 36/110\n",
            "760/760 [==============================] - 18s 23ms/step - loss: 0.4696 - accuracy: 0.8207 - val_loss: 0.5404 - val_accuracy: 0.7926 - lr: 0.0010\n",
            "Epoch 37/110\n",
            "760/760 [==============================] - 17s 22ms/step - loss: 0.4754 - accuracy: 0.8173 - val_loss: 0.5078 - val_accuracy: 0.8047 - lr: 0.0010\n",
            "Epoch 38/110\n",
            "760/760 [==============================] - 16s 22ms/step - loss: 0.4713 - accuracy: 0.8162 - val_loss: 0.5100 - val_accuracy: 0.8039 - lr: 0.0010\n",
            "Epoch 39/110\n",
            "760/760 [==============================] - 17s 22ms/step - loss: 0.4627 - accuracy: 0.8203 - val_loss: 0.4903 - val_accuracy: 0.8119 - lr: 0.0010\n",
            "Epoch 40/110\n",
            "760/760 [==============================] - 14s 19ms/step - loss: 0.4626 - accuracy: 0.8206 - val_loss: 0.5045 - val_accuracy: 0.8060 - lr: 0.0010\n",
            "Epoch 41/110\n",
            "760/760 [==============================] - 14s 19ms/step - loss: 0.4504 - accuracy: 0.8269 - val_loss: 0.4961 - val_accuracy: 0.8177 - lr: 0.0010\n",
            "Epoch 42/110\n",
            "760/760 [==============================] - 16s 21ms/step - loss: 0.4560 - accuracy: 0.8263 - val_loss: 0.5218 - val_accuracy: 0.8070 - lr: 0.0010\n",
            "Epoch 43/110\n",
            "760/760 [==============================] - 16s 21ms/step - loss: 0.4534 - accuracy: 0.8256 - val_loss: 0.4827 - val_accuracy: 0.8190 - lr: 0.0010\n",
            "Epoch 44/110\n",
            "760/760 [==============================] - 16s 22ms/step - loss: 0.4472 - accuracy: 0.8247 - val_loss: 0.5392 - val_accuracy: 0.7944 - lr: 0.0010\n",
            "Epoch 45/110\n",
            "760/760 [==============================] - 19s 25ms/step - loss: 0.4505 - accuracy: 0.8255 - val_loss: 0.4832 - val_accuracy: 0.8211 - lr: 0.0010\n",
            "Epoch 46/110\n",
            "760/760 [==============================] - 19s 25ms/step - loss: 0.4496 - accuracy: 0.8272 - val_loss: 0.4846 - val_accuracy: 0.8217 - lr: 0.0010\n",
            "Epoch 47/110\n",
            "760/760 [==============================] - 18s 24ms/step - loss: 0.4415 - accuracy: 0.8310 - val_loss: 0.5035 - val_accuracy: 0.8133 - lr: 0.0010\n",
            "Epoch 48/110\n",
            "760/760 [==============================] - 15s 20ms/step - loss: 0.4340 - accuracy: 0.8340 - val_loss: 0.4834 - val_accuracy: 0.8208 - lr: 0.0010\n",
            "Epoch 49/110\n",
            "760/760 [==============================] - 14s 18ms/step - loss: 0.4342 - accuracy: 0.8362 - val_loss: 0.4859 - val_accuracy: 0.8253 - lr: 0.0010\n",
            "Epoch 50/110\n",
            "760/760 [==============================] - 16s 22ms/step - loss: 0.4372 - accuracy: 0.8339 - val_loss: 0.4832 - val_accuracy: 0.8221 - lr: 0.0010\n",
            "Epoch 51/110\n",
            "760/760 [==============================] - 17s 22ms/step - loss: 0.4335 - accuracy: 0.8337 - val_loss: 0.5152 - val_accuracy: 0.8112 - lr: 0.0010\n",
            "Epoch 52/110\n",
            "760/760 [==============================] - 15s 19ms/step - loss: 0.4281 - accuracy: 0.8345 - val_loss: 0.5180 - val_accuracy: 0.8083 - lr: 0.0010\n",
            "Epoch 53/110\n",
            "758/760 [============================>.] - ETA: 0s - loss: 0.4326 - accuracy: 0.8353\n",
            "Epoch 53: ReduceLROnPlateau reducing learning rate to 0.0005000000237487257.\n",
            "760/760 [==============================] - 17s 23ms/step - loss: 0.4323 - accuracy: 0.8354 - val_loss: 0.4992 - val_accuracy: 0.8167 - lr: 0.0010\n",
            "Epoch 54/110\n",
            "760/760 [==============================] - 15s 20ms/step - loss: 0.3916 - accuracy: 0.8492 - val_loss: 0.4600 - val_accuracy: 0.8293 - lr: 5.0000e-04\n",
            "Epoch 55/110\n",
            "760/760 [==============================] - 13s 18ms/step - loss: 0.3867 - accuracy: 0.8493 - val_loss: 0.4686 - val_accuracy: 0.8311 - lr: 5.0000e-04\n",
            "Epoch 56/110\n",
            "760/760 [==============================] - 13s 18ms/step - loss: 0.3869 - accuracy: 0.8539 - val_loss: 0.4589 - val_accuracy: 0.8263 - lr: 5.0000e-04\n",
            "Epoch 57/110\n",
            "760/760 [==============================] - 14s 18ms/step - loss: 0.3802 - accuracy: 0.8533 - val_loss: 0.4529 - val_accuracy: 0.8348 - lr: 5.0000e-04\n",
            "Epoch 58/110\n",
            "760/760 [==============================] - 16s 21ms/step - loss: 0.3761 - accuracy: 0.8551 - val_loss: 0.4588 - val_accuracy: 0.8256 - lr: 5.0000e-04\n",
            "Epoch 59/110\n",
            "760/760 [==============================] - 13s 18ms/step - loss: 0.3744 - accuracy: 0.8533 - val_loss: 0.4738 - val_accuracy: 0.8216 - lr: 5.0000e-04\n",
            "Epoch 60/110\n",
            "760/760 [==============================] - 16s 21ms/step - loss: 0.3716 - accuracy: 0.8566 - val_loss: 0.4539 - val_accuracy: 0.8290 - lr: 5.0000e-04\n",
            "Epoch 61/110\n",
            "760/760 [==============================] - 15s 20ms/step - loss: 0.3807 - accuracy: 0.8544 - val_loss: 0.4688 - val_accuracy: 0.8240 - lr: 5.0000e-04\n",
            "Epoch 62/110\n",
            "760/760 [==============================] - 15s 19ms/step - loss: 0.3791 - accuracy: 0.8550 - val_loss: 0.4467 - val_accuracy: 0.8348 - lr: 5.0000e-04\n",
            "Epoch 63/110\n",
            "760/760 [==============================] - 17s 22ms/step - loss: 0.3752 - accuracy: 0.8557 - val_loss: 0.4441 - val_accuracy: 0.8347 - lr: 5.0000e-04\n",
            "Epoch 64/110\n",
            "760/760 [==============================] - 13s 18ms/step - loss: 0.3615 - accuracy: 0.8607 - val_loss: 0.4572 - val_accuracy: 0.8311 - lr: 5.0000e-04\n",
            "Epoch 65/110\n",
            "760/760 [==============================] - 15s 20ms/step - loss: 0.3552 - accuracy: 0.8643 - val_loss: 0.4609 - val_accuracy: 0.8289 - lr: 5.0000e-04\n",
            "Epoch 66/110\n",
            "760/760 [==============================] - 20s 26ms/step - loss: 0.3569 - accuracy: 0.8627 - val_loss: 0.4540 - val_accuracy: 0.8318 - lr: 5.0000e-04\n",
            "Epoch 67/110\n",
            "760/760 [==============================] - 15s 19ms/step - loss: 0.3593 - accuracy: 0.8620 - val_loss: 0.4557 - val_accuracy: 0.8337 - lr: 5.0000e-04\n",
            "Epoch 68/110\n",
            "760/760 [==============================] - 15s 20ms/step - loss: 0.3590 - accuracy: 0.8641 - val_loss: 0.4557 - val_accuracy: 0.8318 - lr: 5.0000e-04\n",
            "Epoch 69/110\n",
            "760/760 [==============================] - 14s 19ms/step - loss: 0.3576 - accuracy: 0.8642 - val_loss: 0.4504 - val_accuracy: 0.8339 - lr: 5.0000e-04\n",
            "Epoch 70/110\n",
            "760/760 [==============================] - 13s 18ms/step - loss: 0.3614 - accuracy: 0.8607 - val_loss: 0.4769 - val_accuracy: 0.8261 - lr: 5.0000e-04\n",
            "Epoch 71/110\n",
            "760/760 [==============================] - 14s 18ms/step - loss: 0.3572 - accuracy: 0.8649 - val_loss: 0.4720 - val_accuracy: 0.8261 - lr: 5.0000e-04\n",
            "Epoch 72/110\n",
            "760/760 [==============================] - 14s 18ms/step - loss: 0.3573 - accuracy: 0.8623 - val_loss: 0.4638 - val_accuracy: 0.8279 - lr: 5.0000e-04\n",
            "Epoch 73/110\n",
            "760/760 [==============================] - ETA: 0s - loss: 0.3540 - accuracy: 0.8685\n",
            "Epoch 73: ReduceLROnPlateau reducing learning rate to 0.0002500000118743628.\n",
            "760/760 [==============================] - 13s 18ms/step - loss: 0.3540 - accuracy: 0.8685 - val_loss: 0.4576 - val_accuracy: 0.8327 - lr: 5.0000e-04\n",
            "Epoch 74/110\n",
            "760/760 [==============================] - 13s 18ms/step - loss: 0.3368 - accuracy: 0.8702 - val_loss: 0.4359 - val_accuracy: 0.8395 - lr: 2.5000e-04\n",
            "Epoch 75/110\n",
            "760/760 [==============================] - 14s 18ms/step - loss: 0.3303 - accuracy: 0.8721 - val_loss: 0.4352 - val_accuracy: 0.8381 - lr: 2.5000e-04\n",
            "Epoch 76/110\n",
            "760/760 [==============================] - 13s 18ms/step - loss: 0.3261 - accuracy: 0.8771 - val_loss: 0.4369 - val_accuracy: 0.8365 - lr: 2.5000e-04\n",
            "Epoch 77/110\n",
            "760/760 [==============================] - 13s 18ms/step - loss: 0.3254 - accuracy: 0.8765 - val_loss: 0.4356 - val_accuracy: 0.8402 - lr: 2.5000e-04\n",
            "Epoch 78/110\n",
            "760/760 [==============================] - 13s 17ms/step - loss: 0.3372 - accuracy: 0.8738 - val_loss: 0.4380 - val_accuracy: 0.8378 - lr: 2.5000e-04\n",
            "Epoch 79/110\n",
            "760/760 [==============================] - 13s 17ms/step - loss: 0.3296 - accuracy: 0.8719 - val_loss: 0.4542 - val_accuracy: 0.8263 - lr: 2.5000e-04\n",
            "Epoch 80/110\n",
            "760/760 [==============================] - 13s 18ms/step - loss: 0.3256 - accuracy: 0.8761 - val_loss: 0.4348 - val_accuracy: 0.8371 - lr: 2.5000e-04\n",
            "Epoch 81/110\n",
            "760/760 [==============================] - 13s 17ms/step - loss: 0.3216 - accuracy: 0.8756 - val_loss: 0.4291 - val_accuracy: 0.8436 - lr: 2.5000e-04\n",
            "Epoch 82/110\n",
            "760/760 [==============================] - 14s 19ms/step - loss: 0.3239 - accuracy: 0.8773 - val_loss: 0.4284 - val_accuracy: 0.8378 - lr: 2.5000e-04\n",
            "Epoch 83/110\n",
            "760/760 [==============================] - 13s 17ms/step - loss: 0.3217 - accuracy: 0.8795 - val_loss: 0.4304 - val_accuracy: 0.8434 - lr: 2.5000e-04\n",
            "Epoch 84/110\n",
            "760/760 [==============================] - 13s 18ms/step - loss: 0.3142 - accuracy: 0.8816 - val_loss: 0.4410 - val_accuracy: 0.8410 - lr: 2.5000e-04\n",
            "Epoch 85/110\n",
            "760/760 [==============================] - 13s 18ms/step - loss: 0.3175 - accuracy: 0.8796 - val_loss: 0.4430 - val_accuracy: 0.8340 - lr: 2.5000e-04\n",
            "Epoch 86/110\n",
            "760/760 [==============================] - 14s 19ms/step - loss: 0.3226 - accuracy: 0.8786 - val_loss: 0.4283 - val_accuracy: 0.8415 - lr: 2.5000e-04\n",
            "Epoch 87/110\n",
            "760/760 [==============================] - 14s 18ms/step - loss: 0.3185 - accuracy: 0.8770 - val_loss: 0.4275 - val_accuracy: 0.8397 - lr: 2.5000e-04\n",
            "Epoch 88/110\n",
            "760/760 [==============================] - 13s 17ms/step - loss: 0.3182 - accuracy: 0.8769 - val_loss: 0.4383 - val_accuracy: 0.8381 - lr: 2.5000e-04\n",
            "Epoch 89/110\n",
            "760/760 [==============================] - 14s 18ms/step - loss: 0.3099 - accuracy: 0.8797 - val_loss: 0.4224 - val_accuracy: 0.8416 - lr: 2.5000e-04\n",
            "Epoch 90/110\n",
            "760/760 [==============================] - 13s 18ms/step - loss: 0.3138 - accuracy: 0.8819 - val_loss: 0.4411 - val_accuracy: 0.8386 - lr: 2.5000e-04\n",
            "Epoch 91/110\n",
            "760/760 [==============================] - 13s 18ms/step - loss: 0.3187 - accuracy: 0.8783 - val_loss: 0.4352 - val_accuracy: 0.8399 - lr: 2.5000e-04\n",
            "Epoch 92/110\n",
            "760/760 [==============================] - 13s 18ms/step - loss: 0.3125 - accuracy: 0.8814 - val_loss: 0.4299 - val_accuracy: 0.8429 - lr: 2.5000e-04\n",
            "Epoch 93/110\n",
            "760/760 [==============================] - 13s 18ms/step - loss: 0.3128 - accuracy: 0.8808 - val_loss: 0.4242 - val_accuracy: 0.8410 - lr: 2.5000e-04\n",
            "Epoch 94/110\n",
            "760/760 [==============================] - 13s 17ms/step - loss: 0.3130 - accuracy: 0.8813 - val_loss: 0.4248 - val_accuracy: 0.8457 - lr: 2.5000e-04\n",
            "Epoch 95/110\n",
            "760/760 [==============================] - 13s 17ms/step - loss: 0.3178 - accuracy: 0.8782 - val_loss: 0.4260 - val_accuracy: 0.8442 - lr: 2.5000e-04\n",
            "Epoch 96/110\n",
            "760/760 [==============================] - 13s 17ms/step - loss: 0.3099 - accuracy: 0.8828 - val_loss: 0.4319 - val_accuracy: 0.8374 - lr: 2.5000e-04\n",
            "Epoch 97/110\n",
            "760/760 [==============================] - 13s 17ms/step - loss: 0.3125 - accuracy: 0.8812 - val_loss: 0.4259 - val_accuracy: 0.8412 - lr: 2.5000e-04\n",
            "Epoch 98/110\n",
            "760/760 [==============================] - 13s 18ms/step - loss: 0.3064 - accuracy: 0.8825 - val_loss: 0.4299 - val_accuracy: 0.8408 - lr: 2.5000e-04\n",
            "Epoch 99/110\n",
            "760/760 [==============================] - ETA: 0s - loss: 0.3099 - accuracy: 0.8819\n",
            "Epoch 99: ReduceLROnPlateau reducing learning rate to 0.0001250000059371814.\n",
            "760/760 [==============================] - 13s 18ms/step - loss: 0.3099 - accuracy: 0.8819 - val_loss: 0.4313 - val_accuracy: 0.8426 - lr: 2.5000e-04\n",
            "Epoch 100/110\n",
            "760/760 [==============================] - 13s 18ms/step - loss: 0.3037 - accuracy: 0.8848 - val_loss: 0.4276 - val_accuracy: 0.8431 - lr: 1.2500e-04\n",
            "Epoch 101/110\n",
            "760/760 [==============================] - 13s 17ms/step - loss: 0.3050 - accuracy: 0.8830 - val_loss: 0.4296 - val_accuracy: 0.8436 - lr: 1.2500e-04\n",
            "Epoch 102/110\n",
            "760/760 [==============================] - 15s 19ms/step - loss: 0.3010 - accuracy: 0.8849 - val_loss: 0.4259 - val_accuracy: 0.8436 - lr: 1.2500e-04\n",
            "Epoch 103/110\n",
            "760/760 [==============================] - 14s 18ms/step - loss: 0.3014 - accuracy: 0.8848 - val_loss: 0.4306 - val_accuracy: 0.8459 - lr: 1.2500e-04\n",
            "Epoch 104/110\n",
            "760/760 [==============================] - 13s 17ms/step - loss: 0.2971 - accuracy: 0.8856 - val_loss: 0.4229 - val_accuracy: 0.8463 - lr: 1.2500e-04\n",
            "Epoch 105/110\n",
            "760/760 [==============================] - 13s 17ms/step - loss: 0.2944 - accuracy: 0.8879 - val_loss: 0.4251 - val_accuracy: 0.8421 - lr: 1.2500e-04\n",
            "Epoch 106/110\n",
            "760/760 [==============================] - 13s 17ms/step - loss: 0.2957 - accuracy: 0.8870 - val_loss: 0.4228 - val_accuracy: 0.8457 - lr: 1.2500e-04\n",
            "Epoch 107/110\n",
            "760/760 [==============================] - 13s 17ms/step - loss: 0.2960 - accuracy: 0.8862 - val_loss: 0.4251 - val_accuracy: 0.8460 - lr: 1.2500e-04\n",
            "Epoch 108/110\n",
            "760/760 [==============================] - 13s 17ms/step - loss: 0.2951 - accuracy: 0.8872 - val_loss: 0.4202 - val_accuracy: 0.8454 - lr: 1.2500e-04\n",
            "Epoch 109/110\n",
            "760/760 [==============================] - 13s 17ms/step - loss: 0.2946 - accuracy: 0.8879 - val_loss: 0.4280 - val_accuracy: 0.8431 - lr: 1.2500e-04\n",
            "Epoch 110/110\n",
            "760/760 [==============================] - 13s 17ms/step - loss: 0.2889 - accuracy: 0.8883 - val_loss: 0.4256 - val_accuracy: 0.8438 - lr: 1.2500e-04\n"
          ]
        }
      ],
      "source": [
        "history = model.fit(train_dataset, epochs=110,\n",
        "                validation_data=test_dataset, callbacks=[lr_decay, mcp_save])"
      ]
    },
    {
      "cell_type": "markdown",
      "source": [
        "###Save the model structure"
      ],
      "metadata": {
        "id": "xeIBfDFabK_b"
      }
    },
    {
      "cell_type": "code",
      "source": [
        "model_json = model.to_json()\n",
        "with open('/content/model/model.json','w') as json_file:\n",
        "  json_file.write(model_json)"
      ],
      "metadata": {
        "id": "bT5N0d8d8ah3"
      },
      "execution_count": null,
      "outputs": []
    },
    {
      "cell_type": "markdown",
      "source": [
        "##Evaluating the model"
      ],
      "metadata": {
        "id": "E8Ie12JfwYeg"
      }
    },
    {
      "cell_type": "markdown",
      "source": [
        "###Visualize history log:\n",
        "this will show us the optimiztion of the validation loss in this model."
      ],
      "metadata": {
        "id": "pfaUHA5RTfmW"
      }
    },
    {
      "cell_type": "code",
      "source": [
        "fig, axs = plt.subplots(1, 2, figsize = (10,5))\n",
        "fig.suptitle('History Log',  size = 20)\n",
        "\n",
        "axs[0].plot(history.history['val_loss'])\n",
        "axs[0].set_xlabel(\"epochs\")\n",
        "axs[0].set_ylabel(\"loss\")\n",
        "axs[0].set_title('val loss')\n",
        "\n",
        "axs[1].plot(history.history['val_accuracy'])\n",
        "axs[1].set_xlabel(\"epochs\")\n",
        "axs[1].set_ylabel(\"accuracy\")\n",
        "axs[1].set_title('val accuracy')\n",
        "\n",
        "plt.show()"
      ],
      "metadata": {
        "colab": {
          "base_uri": "https://localhost:8080/",
          "height": 370
        },
        "id": "aGLrGE0fbDXE",
        "outputId": "3e881c06-d15b-42da-c91a-f48879080d7c"
      },
      "execution_count": null,
      "outputs": [
        {
          "output_type": "display_data",
          "data": {
            "text/plain": [
              "<Figure size 720x360 with 2 Axes>"
            ],
            "image/png": "[encoded data removed]"
          },
          "metadata": {
            "needs_background": "light"
          }
        }
      ]
    },
    {
      "cell_type": "markdown",
      "source": [
        "The log clearly shows the epoch chosen was right before the model could overfit."
      ],
      "metadata": {
        "id": "EwRQJz77ToO6"
      }
    },
    {
      "cell_type": "code",
      "execution_count": null,
      "metadata": {
        "colab": {
          "base_uri": "https://localhost:8080/"
        },
        "id": "GlJRw2aZKiHi",
        "outputId": "48661b70-64f0-43b8-e91d-d5c781671b1e"
      },
      "outputs": [
        {
          "output_type": "stream",
          "name": "stdout",
          "text": [
            "193/193 [==============================] - 2s 10ms/step\n"
          ]
        }
      ],
      "source": [
        "predictions = model.predict(test_dataset)"
      ]
    },
    {
      "cell_type": "code",
      "execution_count": null,
      "metadata": {
        "colab": {
          "base_uri": "https://localhost:8080/"
        },
        "id": "lcvCLItVRt4O",
        "outputId": "5871c5bf-8402-43f5-cc0a-2da2d870c428"
      },
      "outputs": [
        {
          "output_type": "stream",
          "name": "stdout",
          "text": [
            "0.84375\n"
          ]
        }
      ],
      "source": [
        "predictions = np.argmax(predictions, axis = 1)\n",
        "global_model_performance = accuracy_score(test_dataset.classes, predictions)\n",
        "print(global_model_performance)"
      ]
    },
    {
      "cell_type": "markdown",
      "source": [
        "##Optimization"
      ],
      "metadata": {
        "id": "gHUbrDMwAvdl"
      }
    },
    {
      "cell_type": "code",
      "source": [
        "# convert number to the name of the class\n",
        "def find_name(num):\n",
        "  if num == 0:\n",
        "    return 'Alex Brush'\n",
        "  if num == 1:\n",
        "    return 'Open Sans'\n",
        "  if num == 2:\n",
        "    return 'Sansation'\n",
        "  if num == 3:\n",
        "    return 'Titillium Web'\n",
        "  return 'Ubuntu Mono'"
      ],
      "metadata": {
        "id": "rlQ2oSKpDx_G"
      },
      "execution_count": 1,
      "outputs": []
    },
    {
      "cell_type": "markdown",
      "source": [
        "### Loading the model"
      ],
      "metadata": {
        "id": "zufS9guXRvN2"
      }
    },
    {
      "cell_type": "code",
      "source": [
        "with open('model/model.json', 'r') as json_file:\n",
        "  json_model = json_file.read()\n",
        "model = model_from_json(json_model, custom_objects={'RandomColorDistortion': RandomColorDistortion})\n",
        "model.load_weights('model/model.hdf5')\n",
        "model.compile(loss='categorical_crossentropy', optimizer='Adam', metrics=['accuracy'])"
      ],
      "metadata": {
        "id": "D1WBEe0aRyHg"
      },
      "execution_count": 11,
      "outputs": []
    },
    {
      "cell_type": "markdown",
      "source": [
        "### calculates success probabilty for each char"
      ],
      "metadata": {
        "id": "IbYaHjHiD3Rc"
      }
    },
    {
      "cell_type": "code",
      "source": [
        "train_images_len = round(len(im_names) * 0.8)\n",
        "\n",
        "success_letters = defaultdict(int)\n",
        "fail_letters = defaultdict(int)\n",
        "\n",
        "for im in im_names[:train_images_len]: # only the train set\n",
        "  i = 0\n",
        "  img = db['data'][im][:]\n",
        "  font = db['data'][im].attrs['font']\n",
        "  txt = db['data'][im].attrs['txt']\n",
        "  charBB = db['data'][im].attrs['charBB']\n",
        "  for word in txt:\n",
        "    real_font = font[i].decode('UTF-8')\n",
        "    for letter in word:\n",
        "      try:\n",
        "        # preprocces the image\n",
        "         proccessed_img = np.array(concentrateImg(img, charBB[:, :, i]))\n",
        "         proccessed_img =  proccessed_img / 255\n",
        "         proccessed_img =  proccessed_img.reshape(-1, 64, 64, 3)\n",
        "      except:\n",
        "        i += 1\n",
        "        continue\n",
        "\n",
        "      result = model(proccessed_img) # predict the result with the model\n",
        "      predicted_font = find_name(np.argmax(result)) # choose the result with the highest probabilty\n",
        "      if predicted_font == real_font:\n",
        "        success_letters[chr(letter)] += 1\n",
        "      else:\n",
        "        fail_letters[chr(letter)] += 1\n",
        "      i += 1\n",
        "\n",
        "letters_probabilty = {k: success_letters[k]/(success_letters [k] + fail_letters [k])\n",
        "                      for k in success_letters if success_letters [k] + fail_letters [k] != 0}\n",
        "\n",
        "with open(\"/content/model/letters_probabilty.json\", \"w\") as outfile:\n",
        "    json.dump(letters_probabilty, outfile)"
      ],
      "metadata": {
        "id": "Uinl0hdVAvNA"
      },
      "execution_count": null,
      "outputs": []
    },
    {
      "cell_type": "code",
      "source": [
        "sorted_letter_probabilties = sorted(letter_probabilties.items(), key=lambda x:x[1])\n",
        "print(sorted_letter_probabilties)\n",
        "plt.bar(list(letter_probabilties.keys()), letter_probabilties.values())\n",
        "plt.show()"
      ],
      "metadata": {
        "colab": {
          "base_uri": "https://localhost:8080/",
          "height": 302
        },
        "id": "PgxC6CxUtarQ",
        "outputId": "4d505afb-c249-40cb-8862-51eabf39a06a"
      },
      "execution_count": null,
      "outputs": [
        {
          "output_type": "stream",
          "name": "stdout",
          "text": [
            "[('.', 0.47761194029850745), ('-', 0.4838709677419355), (\"'\", 0.49074074074074076), ('#', 0.5), (',', 0.6650485436893204), ('/', 0.6666666666666666), ('+', 0.6666666666666666), ('\"', 0.6842105263157895), (';', 0.75), ('T', 0.7808764940239044), ('I', 0.7814569536423841), ('l', 0.798941798941799), ('L', 0.847682119205298), ('*', 0.8571428571428571), ('X', 0.8571428571428571), ('7', 0.8636363636363636), ('!', 0.8666666666666667), ('>', 0.8823529411764706), ('(', 0.8977272727272727), ('J', 0.8979591836734694), ('z', 0.9), ('x', 0.9), ('O', 0.9076923076923077), ('i', 0.9122983870967742), ('?', 0.918918918918919), (':', 0.9251870324189526), ('Y', 0.926829268292683), ('1', 0.9289099526066351), ('5', 0.9387755102040817), ('D', 0.9393939393939394), ('0', 0.9411764705882353), ('F', 0.9426229508196722), ('v', 0.9441624365482234), ('C', 0.945054945054945), ('H', 0.9452054794520548), ('4', 0.9454545454545454), (')', 0.9473684210526315), ('V', 0.9523809523809523), ('u', 0.9588138385502472), ('E', 0.9605263157894737), ('6', 0.9622641509433962), ('K', 0.9629629629629629), ('N', 0.9680851063829787), ('M', 0.968944099378882), ('8', 0.9696969696969697), ('P', 0.9714285714285714), ('U', 0.972972972972973), ('B', 0.9733333333333334), ('c', 0.9767441860465116), ('G', 0.98), ('r', 0.980327868852459), ('p', 0.9813829787234043), ('o', 0.9818308874912649), ('9', 0.9819819819819819), ('s', 0.9820305480682839), ('m', 0.9832935560859188), ('n', 0.9839298758217677), ('A', 0.9846153846153847), ('S', 0.9848484848484849), ('f', 0.9849397590361446), ('w', 0.9850107066381156), ('R', 0.9850746268656716), ('h', 0.9870041039671683), ('e', 0.9884169884169884), ('a', 0.9886634844868735), ('d', 0.9890260631001372), ('2', 0.9897959183673469), ('b', 0.9911504424778761), ('y', 0.9930555555555556), ('g', 0.9931506849315068), ('k', 0.9940476190476191), ('t', 0.994452849218356), ('3', 1.0), ('%', 1.0), ('j', 1.0), ('Q', 1.0), ('W', 1.0), (']', 1.0), ('@', 1.0), ('<', 1.0), ('q', 1.0), ('&', 1.0), ('^', 1.0), ('[', 1.0), ('$', 1.0), ('Z', 1.0), ('~', 1.0), ('}', 1.0)]\n"
          ]
        },
        {
          "output_type": "display_data",
          "data": {
            "text/plain": [
              "<Figure size 432x288 with 1 Axes>"
            ],
            "image/png": "[encoded data removed]"
          },
          "metadata": {
            "needs_background": "light"
          }
        }
      ]
    },
    {
      "cell_type": "markdown",
      "source": [
        "###classifing with optimization on the train set\n"
      ],
      "metadata": {
        "id": "LpdmclN8gpT1"
      }
    },
    {
      "cell_type": "code",
      "source": [
        "train_images_len = round(len(im_names) * 0.8)\n",
        "with open('/content/model/letters_probabilty.json', 'r') as openfile:\n",
        "  letter_probabilties = json.load(openfile)\n",
        "success = 0\n",
        "not_success = 0\n",
        "\n",
        "for im in im_names[:train_images_len]:\n",
        "\n",
        "  i = 0\n",
        "  img = db['data'][im][:]\n",
        "  font = db['data'][im].attrs['font']\n",
        "  txt = db['data'][im].attrs['txt']\n",
        "  charBB = db['data'][im].attrs['charBB']\n",
        "  for word in txt:\n",
        "    result = np.array([0,0,0,0,0])\n",
        "    real_font = font[i].decode('UTF-8')\n",
        "    for letter in word:\n",
        "      try:\n",
        "         proccessed_img = np.array(concentrateImg(img, charBB[:, :, i]))\n",
        "         proccessed_img =  proccessed_img / 255\n",
        "         proccessed_img =  proccessed_img.reshape(-1, 64, 64, 3)\n",
        "      except:\n",
        "        i += 1\n",
        "        continue\n",
        "      \n",
        "      if letter_probabilties.get(chr(letter)) is not None:\n",
        "        result += model(proccessed_img) * letter_probabilties[chr(letter)] / (2 - letter_probabilties[chr(letter)])\n",
        "      i += 1\n",
        "\n",
        "    predicted_font = find_name(np.argmax(result))\n",
        "    for j in range (len(word)):\n",
        "      if predicted_font == real_font:\n",
        "        success += 1\n",
        "      else:\n",
        "        not_success += 1\n",
        "\n",
        "win = (success / (success + not_success)) * 100\n",
        "print(f'success rate is: {win}%')"
      ],
      "metadata": {
        "colab": {
          "base_uri": "https://localhost:8080/"
        },
        "id": "FS_6b9j7goJz",
        "outputId": "20f252cd-2297-44be-a80b-f5829cfb1313"
      },
      "execution_count": 12,
      "outputs": [
        {
          "output_type": "stream",
          "name": "stdout",
          "text": [
            "success rate is: 99.5440354912915%\n"
          ]
        }
      ]
    },
    {
      "cell_type": "markdown",
      "source": [
        "### classifing with optimization on the validation set"
      ],
      "metadata": {
        "id": "9w18Si1kD8RJ"
      }
    },
    {
      "cell_type": "code",
      "source": [
        "with open('/content/model/letters_probabilty.json', 'r') as openfile:\n",
        "  letter_probabilties = json.load(openfile)\n",
        "\n",
        "success = 0\n",
        "not_success = 0\n",
        "\n",
        "\n",
        "for im in im_names[train_images_len:]:\n",
        "  i = 0\n",
        "  img = db['data'][im][:]\n",
        "  font = db['data'][im].attrs['font']\n",
        "  txt = db['data'][im].attrs['txt']\n",
        "  charBB = db['data'][im].attrs['charBB']\n",
        "  for word in txt:\n",
        "    result = np.array([0,0,0,0,0])\n",
        "    real_font = font[i].decode('UTF-8')\n",
        "    for letter in word:\n",
        "      try:\n",
        "         proccessed_img = np.array(concentrateImg(img, charBB[:, :, i]))\n",
        "         proccessed_img =  proccessed_img / 255\n",
        "         proccessed_img =  proccessed_img.reshape(-1, 64, 64, 3)\n",
        "      except:\n",
        "        i += 1\n",
        "        continue\n",
        "      \n",
        "      if letter_probabilties.get(chr(letter)) is not None:\n",
        "        result += model(proccessed_img) * letter_probabilties[chr(letter)] / (2 - letter_probabilties[chr(letter)])\n",
        "      i += 1\n",
        "\n",
        "    predicted_font = find_name(np.argmax(result))\n",
        "    for j in range (len(word)):\n",
        "      if predicted_font == real_font:\n",
        "        success += 1\n",
        "      else:\n",
        "        not_success += 1\n",
        "\n",
        "win = (success / (success + not_success)) * 100\n",
        "print(f'success rate is: {win}%')"
      ],
      "metadata": {
        "colab": {
          "base_uri": "https://localhost:8080/"
        },
        "id": "FAhkorWeDuEj",
        "outputId": "93f4fdbe-cec4-4bf2-a5d6-c510893dad1e"
      },
      "execution_count": 13,
      "outputs": [
        {
          "output_type": "stream",
          "name": "stdout",
          "text": [
            "success rate is: 95.49870466321244%\n"
          ]
        }
      ]
    },
    {
      "cell_type": "markdown",
      "source": [
        "###viewing success rate by font"
      ],
      "metadata": {
        "id": "dKRaxdIBksHb"
      }
    },
    {
      "cell_type": "code",
      "source": [
        "success_font = defaultdict(int)\n",
        "fail_font= defaultdict(int)\n",
        "\n",
        "for im in im_names[train_images_len:]:\n",
        "\n",
        "  i = 0\n",
        "  img = db['data'][im][:]\n",
        "  font = db['data'][im].attrs['font']\n",
        "  txt = db['data'][im].attrs['txt']\n",
        "  charBB = db['data'][im].attrs['charBB']\n",
        "  for word in txt:\n",
        "    result = np.array([0,0,0,0,0])\n",
        "    real_font = font[i].decode('UTF-8')\n",
        "    for letter in word:\n",
        "      try:\n",
        "         proccessed_img = np.array(concentrateImg(img, charBB[:, :, i]))\n",
        "         proccessed_img =  proccessed_img / 255\n",
        "         proccessed_img =  proccessed_img.reshape(-1, 64, 64, 3)\n",
        "      except:\n",
        "        i += 1\n",
        "        continue\n",
        "      \n",
        "      if letter_probabilties.get(chr(letter)) is not None:\n",
        "        result += model(proccessed_img) * letter_probabilties[chr(letter)] / (2 - letter_probabilties[chr(letter)])\n",
        "      i += 1\n",
        "\n",
        "    predicted_font = find_name(np.argmax(result))\n",
        "    for j in range(len(word)):\n",
        "      if predicted_font == real_font:\n",
        "        success_font[real_font] += 1\n",
        "      else:\n",
        "        fail_font[real_font] += 1\n",
        "\n",
        "font_probabilty = {k: success_font[k]/(success_font[k] + fail_font[k])for k in success_font}"
      ],
      "metadata": {
        "id": "Xry2JxVokr28"
      },
      "execution_count": 22,
      "outputs": []
    },
    {
      "cell_type": "markdown",
      "source": [
        "###plot the fonts success probabilties"
      ],
      "metadata": {
        "id": "bv_e8HSGJH3I"
      }
    },
    {
      "cell_type": "code",
      "source": [
        "print(sorted(font_probabilty.items(), key=lambda x:x[1]))"
      ],
      "metadata": {
        "colab": {
          "base_uri": "https://localhost:8080/"
        },
        "id": "EuGy3NgZliLG",
        "outputId": "2b8c467d-4beb-47d2-ce7d-f96fcebd2b50"
      },
      "execution_count": 23,
      "outputs": [
        {
          "output_type": "stream",
          "name": "stdout",
          "text": [
            "[('Open Sans', 0.8736318407960199), ('Sansation', 0.9486552567237164), ('Titillium Web', 0.9650735294117647), ('Ubuntu Mono', 0.9762917933130699), ('Alex Brush', 0.990916597853014)]\n"
          ]
        }
      ]
    },
    {
      "cell_type": "code",
      "source": [
        "plt.bar(list(font_probabilty.keys()), font_probabilty.values(), color=['red', 'green', 'blue', 'purple' , 'orange'])\n",
        "print(type(font_probabilty))"
      ],
      "metadata": {
        "colab": {
          "base_uri": "https://localhost:8080/",
          "height": 282
        },
        "id": "rlx6Sm8dmhLU",
        "outputId": "90e46744-a06f-4aeb-92bf-0348e62467d0"
      },
      "execution_count": 24,
      "outputs": [
        {
          "output_type": "stream",
          "name": "stdout",
          "text": [
            "<class 'dict'>\n"
          ]
        },
        {
          "output_type": "display_data",
          "data": {
            "text/plain": [
              "<Figure size 432x288 with 1 Axes>"
            ],
            "image/png": "[encoded data removed]"
          },
          "metadata": {
            "needs_background": "light"
          }
        }
      ]
    },
    {
      "cell_type": "markdown",
      "metadata": {
        "id": "AEEPKNXqnqYN"
      },
      "source": [
        "## Classifying and creating csv file with the given h5 file"
      ]
    },
    {
      "cell_type": "code",
      "source": [
        "# loading the dataset:\n",
        "db = h5py.File('/content/drive/MyDrive/SynthText_test.h5')\n",
        "im_names = list(db['data'].keys())\n",
        "\n",
        "df = {'image': [], 'char': [], \"Open Sans\": [], \"Sansation\": [], \"Titillium Web\": [],\n",
        "      \"Ubuntu Mono\": [], \"Alex Brush\": []}\n",
        "\n",
        "# loading the probability letter dictionary file:\n",
        "with open('/content/model/letters_probabilty.json', 'r') as openfile:\n",
        "  letter_probabilties = json.load(openfile)\n",
        "\n",
        "# loading the model:\n",
        "\n",
        "with open('/content/model/model.json', 'r') as json_file:\n",
        "  json_model = json_file.read()\n",
        "model = model_from_json(json_model,custom_objects={'RandomColorDistortion':RandomColorDistortion})\n",
        "model.load_weights('/content/model/model.hdf5')\n",
        "model.compile(loss = 'categorical_crossentropy', optimizer='Adam', metrics=['accuracy'])\n",
        "\n",
        "for im in im_names[:]:\n",
        "  i = 0\n",
        "  img = db['data'][im][:]\n",
        "  txt = db['data'][im].attrs['txt']\n",
        "  charBB = db['data'][im].attrs['charBB']\n",
        "  for word in txt:\n",
        "    result = np.array([0,0,0,0,0])\n",
        "    for letter in word:\n",
        "      df['image'].append(str(im))\n",
        "      df['char'].append(chr(letter))\n",
        "      try:\n",
        "         proccessed_img = np.array(concentrateImg(img, charBB[:, :, i]))\n",
        "         proccessed_img =  proccessed_img / 255\n",
        "         proccessed_img =  proccessed_img.reshape(-1, 64, 64, 3)\n",
        "      except:\n",
        "        i += 1\n",
        "        continue\n",
        "      if letter_probabilties.get(chr(letter)) is not None:\n",
        "        result += model(proccessed_img) * letter_probabilties[chr(letter)] / (2 - letter_probabilties[chr(letter)])\n",
        "      i += 1\n",
        "    \n",
        "    predicted_font = find_name(np.argmax(result))\n",
        "    \n",
        "    # add the result to the data frame\n",
        "    for j in range(len(word)):\n",
        "      df['Alex Brush'].append(1 if predicted_font == 'Alex Brush' else 0)\n",
        "      df['Open Sans'].append(1 if predicted_font == 'Open Sans' else 0)\n",
        "      df['Sansation'].append(1 if predicted_font == 'Sansation' else 0)\n",
        "      df['Titillium Web'].append(1 if predicted_font == 'Titillium Web' else 0)\n",
        "      df['Ubuntu Mono'].append(1 if predicted_font == 'Ubuntu Mono' else 0)\n",
        "\n",
        "df = pd.DataFrame(df)\n",
        "df.to_csv('font_predictions.csv')"
      ],
      "metadata": {
        "id": "r7Xa0wlEiKkn"
      },
      "execution_count": 26,
      "outputs": []
    },
    {
      "cell_type": "markdown",
      "source": [
        "##Conclusion\n",
        "I learned alot from making this project.\n",
        "\n",
        "The model has room for improvement, but overall performance is impressive.Thank you for reading! 😀"
      ],
      "metadata": {
        "id": "tGUl2praT151"
      }
    }
  ],
  "metadata": {
    "accelerator": "GPU",
    "colab": {
      "provenance": []
    },
    "gpuClass": "standard",
    "kernelspec": {
      "display_name": "Python 3",
      "name": "python3"
    },
    "language_info": {
      "name": "python"
    }
  },
  "nbformat": 4,
  "nbformat_minor": 0
}